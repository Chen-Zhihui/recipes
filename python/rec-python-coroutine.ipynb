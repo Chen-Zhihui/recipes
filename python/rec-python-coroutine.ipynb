{
 "cells": [
  {
   "cell_type": "code",
   "execution_count": 1,
   "metadata": {
    "collapsed": false
   },
   "outputs": [
    {
     "name": "stdout",
     "output_type": "stream",
     "text": [
      "pythondd\n",
      "lkjlpython\n"
     ]
    }
   ],
   "source": [
    "import os, sys\n",
    "import fnmatch\n",
    "\n",
    "def coroutine(func) :\n",
    "    def start(*argc, **kwargs) :\n",
    "        g = func(*argc, **kwargs)\n",
    "        next(g)\n",
    "        return g\n",
    "    return start\n",
    "\n",
    "\n",
    "@coroutine\n",
    "def find_files(target) :\n",
    "    while True:\n",
    "        topdir, pattern = (yield)\n",
    "        for path, dir, filelist in os.walk(topdir):\n",
    "            for name in filelist:\n",
    "                if fnmatch.fnmatch(name, pattern):\n",
    "                    target.send(os.path.join(path, name))\n",
    "                    \n",
    "                    \n",
    "import gzip, bz2\n",
    "@coroutine\n",
    "def opener(target):\n",
    "    while True:\n",
    "        name = (yield)\n",
    "        if name.endswith(\".gz\") : \n",
    "            f = gzip.open(name)\n",
    "        elif name.endswith(\".bz2\"):\n",
    "            f = bz2.BZ2File(name)\n",
    "        else :\n",
    "            f = open(name)\n",
    "        target.send(f)\n",
    "    \n",
    "    \n",
    "@coroutine \n",
    "def dest(target):\n",
    "    while True:\n",
    "        ls = (yield)\n",
    "        target.send(ls)\n",
    "        \n",
    "@coroutine\n",
    "def cat(target):\n",
    "    while True :\n",
    "        f = (yield)\n",
    "        for line in f :\n",
    "            target.send(line)\n",
    "            \n",
    "        \n",
    "@coroutine\n",
    "def grep( pattern , target) :\n",
    "    while True:\n",
    "        line = (yield)\n",
    "        if pattern in line :\n",
    "            target.send(line)\n",
    "            \n",
    "            \n",
    "@coroutine\n",
    "def printer() :\n",
    "    while True:\n",
    "        line = (yield)\n",
    "        print(line)\n",
    "        \n",
    "\n",
    "finder = dest(cat(grep(\"python\", printer())))\n",
    "finder.send([\"ckk\",\"pythondd\",\"lkjlpython\"])"
   ]
  },
  {
   "cell_type": "code",
   "execution_count": null,
   "metadata": {
    "collapsed": true
   },
   "outputs": [],
   "source": []
  }
 ],
 "metadata": {
  "kernelspec": {
   "display_name": "Python 3",
   "language": "python",
   "name": "python3"
  },
  "language_info": {
   "codemirror_mode": {
    "name": "ipython",
    "version": 3
   },
   "file_extension": ".py",
   "mimetype": "text/x-python",
   "name": "python",
   "nbconvert_exporter": "python",
   "pygments_lexer": "ipython3",
   "version": "3.6.0"
  }
 },
 "nbformat": 4,
 "nbformat_minor": 2
}
