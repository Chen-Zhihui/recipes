{
 "cells": [
  {
   "cell_type": "code",
   "execution_count": null,
   "metadata": {
    "collapsed": true
   },
   "outputs": [],
   "source": [
    "with open(\"file.txt\") as f:\n",
    "    for l in f:\n",
    "        print(l)"
   ]
  },
  {
   "cell_type": "code",
   "execution_count": 6,
   "metadata": {
    "collapsed": false
   },
   "outputs": [
    {
     "name": "stdout",
     "output_type": "stream",
     "text": [
      "[1, 2, 3, 4]\n",
      "[1, 2, 3, 4, 3, 4]\n"
     ]
    }
   ],
   "source": [
    "# context a function programming concept\n",
    "from contextlib import contextmanager\n",
    "@contextmanager\n",
    "def ListTransaction(thelist) :\n",
    "    workingcopy = list(thelist)\n",
    "    yield workingcopy\n",
    "    thelist[:]=workingcopy\n",
    "    print(thelist)\n",
    "    \n",
    "    \n",
    "with ListTransaction([1,2,3,4]) as l:\n",
    "    print(l)\n",
    "    l.append(3)\n",
    "    l.append(4)\n",
    "    "
   ]
  },
  {
   "cell_type": "code",
   "execution_count": null,
   "metadata": {
    "collapsed": true
   },
   "outputs": [],
   "source": []
  }
 ],
 "metadata": {
  "kernelspec": {
   "display_name": "Python 3",
   "language": "python",
   "name": "python3"
  },
  "language_info": {
   "codemirror_mode": {
    "name": "ipython",
    "version": 3
   },
   "file_extension": ".py",
   "mimetype": "text/x-python",
   "name": "python",
   "nbconvert_exporter": "python",
   "pygments_lexer": "ipython3",
   "version": "3.6.0"
  }
 },
 "nbformat": 4,
 "nbformat_minor": 2
}
