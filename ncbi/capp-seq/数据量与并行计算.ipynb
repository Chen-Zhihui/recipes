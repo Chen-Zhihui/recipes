{
 "cells": [
  {
   "cell_type": "markdown",
   "metadata": {},
   "source": [
    "* cfNDA, 正常小于10ng/ml。而肿瘤患者循环DNA主要来自肿瘤细胞，其血浆DNA浓度平均可达180ng/ml\n",
    "* CAPP中非参等位基因分布，发现本底中位值和均值分别是0.0003%、0.006%，这远远低于ctDNA比例，说明并不会影响ctDNA检出（fig2d）"
   ]
  },
  {
   "cell_type": "code",
   "execution_count": null,
   "metadata": {
    "collapsed": true
   },
   "outputs": [],
   "source": []
  }
 ],
 "metadata": {
  "kernelspec": {
   "display_name": "Python 3",
   "language": "python",
   "name": "python3"
  },
  "language_info": {
   "codemirror_mode": {
    "name": "ipython",
    "version": 3
   },
   "file_extension": ".py",
   "mimetype": "text/x-python",
   "name": "python",
   "nbconvert_exporter": "python",
   "pygments_lexer": "ipython3",
   "version": "3.6.0"
  }
 },
 "nbformat": 4,
 "nbformat_minor": 2
}
