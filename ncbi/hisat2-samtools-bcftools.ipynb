{
 "cells": [
  {
   "cell_type": "markdown",
   "metadata": {
    "collapsed": true
   },
   "source": [
    "# ref \n",
    "- [hisat2 homepage](https://github.com/infphilo/hisat2/blob/master/MANUAL.markdown)\n",
    "- [hisat2 paper](https://www.ncbi.nlm.nih.gov/pmc/articles/PMC4655817/)\n"
   ]
  },
  {
   "cell_type": "code",
   "execution_count": 1,
   "metadata": {
    "collapsed": false
   },
   "outputs": [
    {
     "name": "stdout",
     "output_type": "stream",
     "text": [
      "/home/tom/local/biotools/hisat2-2.0.5/hisat2-inspect\r\n"
     ]
    }
   ],
   "source": [
    "!which hisat2-inspect"
   ]
  },
  {
   "cell_type": "code",
   "execution_count": 2,
   "metadata": {
    "collapsed": false
   },
   "outputs": [
    {
     "name": "stdout",
     "output_type": "stream",
     "text": [
      "/home/tom/local/biotools/hisat2-2.0.5\r\n"
     ]
    }
   ],
   "source": [
    "!echo $HISAT2_HOME"
   ]
  },
  {
   "cell_type": "code",
   "execution_count": 1,
   "metadata": {
    "collapsed": false
   },
   "outputs": [
    {
     "name": "stdout",
     "output_type": "stream",
     "text": [
      "/home/tom/local/biotools/samtools-dev\r\n"
     ]
    }
   ],
   "source": [
    "!echo $SAMTOOLS_HOME"
   ]
  },
  {
   "cell_type": "code",
   "execution_count": 2,
   "metadata": {
    "collapsed": false
   },
   "outputs": [
    {
     "name": "stdout",
     "output_type": "stream",
     "text": [
      "/home/tom/local/biotools/bcftools-dev\r\n"
     ]
    }
   ],
   "source": [
    "!echo $BCFTOOLS_HOME"
   ]
  },
  {
   "cell_type": "markdown",
   "metadata": {},
   "source": [
    "# build samtools and bcftools"
   ]
  },
  {
   "cell_type": "code",
   "execution_count": 4,
   "metadata": {
    "collapsed": false
   },
   "outputs": [
    {
     "name": "stdout",
     "output_type": "stream",
     "text": [
      "make: *** No rule to make target 'install'。 停止。\r\n"
     ]
    }
   ],
   "source": [
    "! export SAMTOOLS_HOME=/home/tom/local/biotools/samtools-dev\n",
    "! sudo apt-get install libbz2-dev liblz-dev liblzma-dev autoconf\n",
    "! sudo apt-get install libncurses5-dev\n",
    "! cd samtools    # and similarly for bcftools and htslib\n",
    "! make prefix=$SAMTOOLS_HOME install\n",
    "! cd ..\n",
    "! cd bcftools\n",
    "! make prefix=$BCFTOOLS_HOME install\n",
    "#The lzlib compression library provides in-memory LZMA compression and\n",
    "#decompression functions, including integrity checking of the uncompressed data.\n",
    "#The compressed data format used by the library is the lzip format."
   ]
  },
  {
   "cell_type": "code",
   "execution_count": 7,
   "metadata": {
    "collapsed": false
   },
   "outputs": [
    {
     "name": "stdout",
     "output_type": "stream",
     "text": [
      "总用量 1616\r\n",
      "drwxr-xr-x 2 tom tom   4096 5月  26 21:46 .\r\n",
      "drwxrwxr-x 3 tom tom   4096 5月  26 21:46 ..\r\n",
      "-rwxr-xr-x 1 tom tom 273992 5月  26 21:45 ad-bias.so\r\n",
      "-rwxr-xr-x 1 tom tom  38264 5月  26 21:45 af-dist.so\r\n",
      "-rwxr-xr-x 1 tom tom  37824 5月  26 21:45 check-sparsity.so\r\n",
      "-rwxr-xr-x 1 tom tom  90536 5月  26 21:45 color-chrs.so\r\n",
      "-rwxr-xr-x 1 tom tom  21976 5月  26 21:45 counts.so\r\n",
      "-rwxr-xr-x 1 tom tom  38504 5月  26 21:45 dosage.so\r\n",
      "-rwxr-xr-x 1 tom tom  22104 5月  26 21:45 fill-AN-AC.so\r\n",
      "-rwxr-xr-x 1 tom tom 217112 5月  26 21:45 fill-from-fasta.so\r\n",
      "-rwxr-xr-x 1 tom tom  89512 5月  26 21:45 fill-tags.so\r\n",
      "-rwxr-xr-x 1 tom tom  79984 5月  26 21:45 fixploidy.so\r\n",
      "-rwxr-xr-x 1 tom tom  67912 5月  26 21:45 fixref.so\r\n",
      "-rwxr-xr-x 1 tom tom  27912 5月  26 21:45 frameshifts.so\r\n",
      "-rwxr-xr-x 1 tom tom  55840 5月  26 21:45 GTisec.so\r\n",
      "-rwxr-xr-x 1 tom tom  25104 5月  26 21:45 GTsubset.so\r\n",
      "-rwxr-xr-x 1 tom tom  52184 5月  26 21:45 guess-ploidy.so\r\n",
      "-rwxr-xr-x 1 tom tom  25304 5月  26 21:45 impute-info.so\r\n",
      "-rwxr-xr-x 1 tom tom  29248 5月  26 21:45 isecGT.so\r\n",
      "-rwxr-xr-x 1 tom tom  29440 5月  26 21:45 mendelian.so\r\n",
      "-rwxr-xr-x 1 tom tom  24576 5月  26 21:45 missing2ref.so\r\n",
      "-rwxr-xr-x 1 tom tom  41184 5月  26 21:45 prune.so\r\n",
      "-rwxr-xr-x 1 tom tom 219480 5月  26 21:45 setGT.so\r\n",
      "-rwxr-xr-x 1 tom tom  33888 5月  26 21:45 tag2tag.so\r\n",
      "-rwxr-xr-x 1 tom tom  50848 5月  26 21:45 trio-switch-rate.so\r\n"
     ]
    }
   ],
   "source": [
    "!ls $BCFTOOLS_HOME/libexec/bcftools -la"
   ]
  },
  {
   "cell_type": "code",
   "execution_count": 8,
   "metadata": {
    "collapsed": false
   },
   "outputs": [
    {
     "name": "stdout",
     "output_type": "stream",
     "text": [
      "ace2sam\t\t    maq2sam-short  sam2vcf.pl\t\t  wgsim\r\n",
      "blast2sam.pl\t    md5fa\t   samtools\t\t  wgsim_eval.pl\r\n",
      "bowtie2sam.pl\t    md5sum-lite    samtools.pl\t\t  zoom2sam.pl\r\n",
      "export2sam.pl\t    novo2sam.pl    seq_cache_populate.pl\r\n",
      "interpolate_sam.pl  plot-bamstats  soap2sam.pl\r\n",
      "maq2sam-long\t    psl2sam.pl\t   varfilter.py\r\n"
     ]
    }
   ],
   "source": [
    "!ls $SAMTOOLS_HOME/bin"
   ]
  },
  {
   "cell_type": "code",
   "execution_count": 1,
   "metadata": {
    "collapsed": false
   },
   "outputs": [
    {
     "name": "stdout",
     "output_type": "stream",
     "text": [
      "Settings:\n",
      "  Output files: \"22_20-21M_snp.*.ht2\"\n",
      "  Line rate: 7 (line is 128 bytes)\n",
      "  Lines per side: 1 (side is 128 bytes)\n",
      "  Offset rate: 4 (one in 16)\n",
      "  FTable chars: 10\n",
      "  Strings: unpacked\n",
      "  Local offset rate: 3 (one in 8)\n",
      "  Local fTable chars: 6\n",
      "  Local sequence length: 57344\n",
      "  Local sequence overlap between two consecutive indexes: 1024\n",
      "  Endianness: little\n",
      "  Actual local endianness: little\n",
      "  Sanity checking: disabled\n",
      "  Assertions: disabled\n",
      "  Random seed: 0\n",
      "  Sizeofs: void*:8, int:4, long:8, size_t:8\n",
      "Input files DNA, FASTA:\n",
      "  /home/tom/local/biotools/hisat2-2.0.5/example/reference/22_20-21M.fa\n",
      "Reading reference sizes\n",
      "  Time reading reference sizes: 00:00:00\n",
      "Calculating joined length\n",
      "Writing header\n",
      "Reserving space for joined string\n",
      "Joining reference sequences\n",
      "  Time to join reference sequences: 00:00:00\n",
      "  Time to read SNPs and splice sites: 00:00:00\n",
      "Generation 0 (907068 -> 907068 nodes, 0 ranks\n",
      "COUNTED NEW NODES: 0\n",
      "COUNTED TEMP NODES: 0\n",
      "RESIZED NODES: 0\n",
      "RESIZED NODES: 0\n",
      "MADE NEW NODES: 0\n",
      "Generation 1 (910570 -> 910570 nodes, 0 ranks\n",
      "COUNTED NEW NODES: 0\n",
      "COUNTED TEMP NODES: 0\n",
      "RESIZED NODES: 0\n",
      "RESIZED NODES: 0\n",
      "MADE NEW NODES: 0\n",
      "Generation 2 (917574 -> 917574 nodes, 0 ranks\n",
      "COUNTED NEW NODES: 0\n",
      "COUNTED TEMP NODES: 0\n",
      "RESIZED NODES: 0\n",
      "RESIZED NODES: 0\n",
      "MADE NEW NODES: 0\n",
      "Generation 3 (931582 -> 931582 nodes, 0 ranks\n",
      "BUILT FROM_INDEX: 0\n",
      "COUNTED NEW NODES: 0\n",
      "COUNTED TEMP NODES: 0\n",
      "RESIZED NODES: 0\n",
      "RESIZED NODES: 0\n",
      "MADE NEW NODES: 0\n",
      "RESIZE NODES: 0\n",
      "SORT NODES: 0\n",
      "MERGE, UPDATE RANK: 0\n",
      "Generation 4 (959602 -> 940657 nodes, 803404 ranks\n",
      "ALLOCATE FROM_TABLE: 0\n",
      "BUILD TABLE: 0\n",
      "BUILD INDEX: 0\n",
      "COUNTED NEW NODES: 0\n",
      "COUNTED TEMP NODES: 0\n",
      "RESIZED NODES: 0\n",
      "RESIZED NODES: 0\n",
      "MADE NEW NODES: 0\n",
      "MERGEUPDATERANK: 0\n",
      "TOTAL TIME: 0\n",
      "Generation 5 (949741 -> 946004 nodes, 883204 ranks\n",
      "ALLOCATE FROM_TABLE: 0\n",
      "BUILD TABLE: 0\n",
      "BUILD INDEX: 0\n",
      "COUNTED NEW NODES: 0\n",
      "COUNTED TEMP NODES: 0\n",
      "RESIZED NODES: 0\n",
      "RESIZED NODES: 0\n",
      "MADE NEW NODES: 0\n",
      "MERGEUPDATERANK: 0\n",
      "TOTAL TIME: 0\n",
      "Generation 6 (953486 -> 950077 nodes, 916044 ranks\n",
      "ALLOCATE FROM_TABLE: 0\n",
      "BUILD TABLE: 0\n",
      "BUILD INDEX: 0\n",
      "COUNTED NEW NODES: 0\n",
      "COUNTED TEMP NODES: 0\n",
      "RESIZED NODES: 0\n",
      "RESIZED NODES: 0\n",
      "MADE NEW NODES: 0\n",
      "MERGEUPDATERANK: 0\n",
      "TOTAL TIME: 0\n",
      "Generation 7 (955700 -> 952624 nodes, 932255 ranks\n",
      "ALLOCATE FROM_TABLE: 0\n",
      "BUILD TABLE: 0\n",
      "BUILD INDEX: 0\n",
      "COUNTED NEW NODES: 0\n",
      "COUNTED TEMP NODES: 0\n",
      "RESIZED NODES: 0\n",
      "RESIZED NODES: 0\n",
      "MADE NEW NODES: 0\n",
      "MERGEUPDATERANK: 0\n",
      "TOTAL TIME: 0\n",
      "Generation 8 (956721 -> 954036 nodes, 944462 ranks\n",
      "ALLOCATE FROM_TABLE: 0\n",
      "BUILD TABLE: 0\n",
      "BUILD INDEX: 0\n",
      "COUNTED NEW NODES: 0\n",
      "COUNTED TEMP NODES: 0\n",
      "RESIZED NODES: 0\n",
      "RESIZED NODES: 0\n",
      "MADE NEW NODES: 0\n",
      "MERGEUPDATERANK: 0\n",
      "TOTAL TIME: 0\n",
      "Generation 9 (956059 -> 954719 nodes, 952732 ranks\n",
      "ALLOCATE FROM_TABLE: 0\n",
      "BUILD TABLE: 0\n",
      "BUILD INDEX: 0\n",
      "COUNTED NEW NODES: 0\n",
      "COUNTED TEMP NODES: 0\n",
      "RESIZED NODES: 0\n",
      "RESIZED NODES: 0\n",
      "MADE NEW NODES: 0\n",
      "MERGEUPDATERANK: 0\n",
      "TOTAL TIME: 0\n",
      "Generation 10 (955034 -> 954774 nodes, 954774 ranks\n",
      "Generating edges... \n",
      "NODE.TO -> GENOME POS: 0\n",
      "BUILD FROM_INDEX 0\n",
      "COUNTED NEW EDGES: 0\n",
      "MADE NEW EDGES: 0\n",
      "SORTED NEW EDGES: 1\n",
      "RE-SORTED NODES: 0\n",
      "PROCESS EDGES: 0\n",
      "REMOVE Y: 0\n",
      "SORT, Make index: 0\n",
      "TOTAL: 1\n",
      "Allocating ftab, absorbFtab\n",
      "Entering GFM loop\n",
      "Exited GFM loop\n",
      "fchr[A]: 0\n",
      "fchr[C]: 224989\n",
      "fchr[G]: 476822\n",
      "fchr[T]: 729153\n",
      "fchr[$]: 958358\n",
      "Exiting GFM::buildToDisk()\n",
      "Returning from initFromVector\n",
      "Wrote 4789374 bytes to primary GFM file: 22_20-21M_snp.1.ht2\n",
      "Wrote 238700 bytes to secondary GFM file: 22_20-21M_snp.2.ht2\n",
      "Re-opening _in1 and _in2 as input streams\n",
      "Returning from GFM constructor\n",
      "Returning from initFromVector\n",
      "Wrote 678405 bytes to primary GFM file: 22_20-21M_snp.5.ht2\n",
      "Wrote 238590 bytes to secondary GFM file: 22_20-21M_snp.6.ht2\n",
      "Re-opening _in5 and _in5 as input streams\n",
      "Returning from HierEbwt constructor\n",
      "Headers:\n",
      "    len: 900000\n",
      "    gbwtLen: 958359\n",
      "    nodes: 954773\n",
      "    sz: 450000\n",
      "    gbwtSz: 479180\n",
      "    lineRate: 7\n",
      "    offRate: 4\n",
      "    offMask: 0xfffffff0\n",
      "    ftabChars: 10\n",
      "    eftabLen: 0\n",
      "    eftabSz: 0\n",
      "    ftabLen: 1048577\n",
      "    ftabSz: 4194308\n",
      "    offsLen: 59674\n",
      "    offsSz: 238696\n",
      "    lineSz: 128\n",
      "    sideSz: 128\n",
      "    sideGbwtSz: 104\n",
      "    sideGbwtLen: 208\n",
      "    numSides: 4608\n",
      "    numLines: 4608\n",
      "    gbwtTotLen: 589824\n",
      "    gbwtTotSz: 589824\n",
      "    reverse: 0\n",
      "    linearFM: No\n",
      "Total time for call to driver() for forward index: 00:00:06\n"
     ]
    }
   ],
   "source": [
    "!$HISAT2_HOME/hisat2-build $HISAT2_HOME/example/reference/22_20-21M.fa --snp $HISAT2_HOME/example/reference/22_20-21M.snp 22_20-21M_snp"
   ]
  },
  {
   "cell_type": "code",
   "execution_count": 2,
   "metadata": {
    "collapsed": false
   },
   "outputs": [
    {
     "name": "stdout",
     "output_type": "stream",
     "text": [
      "1000 reads; of these:\r\n",
      "  1000 (100.00%) were unpaired; of these:\r\n",
      "    0 (0.00%) aligned 0 times\r\n",
      "    1000 (100.00%) aligned exactly 1 time\r\n",
      "    0 (0.00%) aligned >1 times\r\n",
      "100.00% overall alignment rate\r\n"
     ]
    }
   ],
   "source": [
    "!$HISAT2_HOME/hisat2 -f -x $HISAT2_HOME/example/index/22_20-21M_snp -U $HISAT2_HOME/example/reads/reads_1.fa -S eg1.sam"
   ]
  },
  {
   "cell_type": "markdown",
   "metadata": {},
   "source": [
    "# Introduction\n",
    "Variant calling, at first glance, is pretty simple: Map sequence reads to an appropriate reference, emitting BAM files; Generate pileups and look for evidence of structural variation; Correct for false-positives due to the sequencing technology. Common file formats used in variant detection are:\n",
    "* BAM files containing alignments against a reference genome\n",
    "* Reference FASTA files containing genome sequence\n",
    "* VCF files to represent SNPs and small indels\n",
    "* BED files for specifying regions of the genome"
   ]
  },
  {
   "cell_type": "markdown",
   "metadata": {},
   "source": [
    "# Alignment statistics\n",
    "Before diving into interpretation of bioinformatics results, it's nice to get some summary statistics."
   ]
  },
  {
   "cell_type": "code",
   "execution_count": 11,
   "metadata": {
    "collapsed": false
   },
   "outputs": [
    {
     "name": "stdout",
     "output_type": "stream",
     "text": [
      "1000 + 0 in total (QC-passed reads + QC-failed reads)\r\n",
      "0 + 0 secondary\r\n",
      "0 + 0 supplementary\r\n",
      "0 + 0 duplicates\r\n",
      "1000 + 0 mapped (100.00% : N/A)\r\n",
      "0 + 0 paired in sequencing\r\n",
      "0 + 0 read1\r\n",
      "0 + 0 read2\r\n",
      "0 + 0 properly paired (N/A : N/A)\r\n",
      "0 + 0 with itself and mate mapped\r\n",
      "0 + 0 singletons (N/A : N/A)\r\n",
      "0 + 0 with mate mapped to a different chr\r\n",
      "0 + 0 with mate mapped to a different chr (mapQ>=5)\r\n"
     ]
    }
   ],
   "source": [
    "!samtools flagstat eg1.sam"
   ]
  },
  {
   "cell_type": "code",
   "execution_count": 3,
   "metadata": {
    "collapsed": false
   },
   "outputs": [
    {
     "name": "stdout",
     "output_type": "stream",
     "text": [
      "1000 reads; of these:\r\n",
      "  1000 (100.00%) were paired; of these:\r\n",
      "    0 (0.00%) aligned concordantly 0 times\r\n",
      "    1000 (100.00%) aligned concordantly exactly 1 time\r\n",
      "    0 (0.00%) aligned concordantly >1 times\r\n",
      "    ----\r\n",
      "    0 pairs aligned concordantly 0 times; of these:\r\n",
      "      0 (0.00%) aligned discordantly 1 time\r\n",
      "    ----\r\n",
      "    0 pairs aligned 0 times concordantly or discordantly; of these:\r\n",
      "      0 mates make up the pairs; of these:\r\n",
      "        0 (0.00%) aligned 0 times\r\n",
      "        0 (0.00%) aligned exactly 1 time\r\n",
      "        0 (0.00%) aligned >1 times\r\n",
      "100.00% overall alignment rate\r\n"
     ]
    }
   ],
   "source": [
    "!$HISAT2_HOME/hisat2 -f -x $HISAT2_HOME/example/index/22_20-21M_snp -1 $HISAT2_HOME/example/reads/reads_1.fa -2 $HISAT2_HOME/example/reads/reads_2.fa -S eg2.sam"
   ]
  },
  {
   "cell_type": "markdown",
   "metadata": {},
   "source": [
    "# Basic variant calling\n",
    "Variant calling is basically a three-step process:\n",
    "- First, samtools mpileup command transposes the mapped data in a sorted BAM file fully to genome-centric coordinates. It starts at the first base on the first chromosome for which there is coverage and prints out one line per base. Each line has information on every base observed in the raw data at that base position along with a lot of auxiliary information depending on which flags are set. It calculates the Bayseian prior probability given by the data, but does not estimate a real genotype.\n",
    "- Next, bcftools with a few options added uses the prior probability distribution and the data to calculate an actual genotype for the variants detected.\n",
    "- Finally, vcfutils.pl (or equivalent) is used to filter down the list of candidates according to some set of objective criteria.\n",
    "Here's a basic set of commands to generate a BCF of genotypes."
   ]
  },
  {
   "cell_type": "code",
   "execution_count": 4,
   "metadata": {
    "collapsed": true
   },
   "outputs": [],
   "source": [
    "# Use samtools view to convert the SAM file into a BAM file. \n",
    "# BAM is a the binary format corresponding to the SAM text format. Run:\n",
    "!samtools view -bS eg2.sam > eg2.bam"
   ]
  },
  {
   "cell_type": "code",
   "execution_count": 5,
   "metadata": {
    "collapsed": true
   },
   "outputs": [],
   "source": [
    "# Use samtools sort to convert the BAM file to a sorted BAM file. \n",
    "# The following command requires samtools version 1.2 or higher.\n",
    "!samtools sort eg2.bam -o eg2.sorted.bam"
   ]
  },
  {
   "cell_type": "code",
   "execution_count": 12,
   "metadata": {
    "collapsed": true
   },
   "outputs": [],
   "source": [
    "!samtools index eg2.sorted.bam"
   ]
  },
  {
   "cell_type": "code",
   "execution_count": 9,
   "metadata": {
    "collapsed": false
   },
   "outputs": [
    {
     "name": "stdout",
     "output_type": "stream",
     "text": [
      "[mpileup] 1 samples in 1 input files\n",
      "<mpileup> Set max per-file depth to 8000\n",
      "[E::cg] unknown type\n",
      "Accepted types are snps, indels, mnps, other\n"
     ]
    }
   ],
   "source": [
    "# We now have a sorted BAM file called eg2.sorted.bam. \n",
    "# Sorted BAM is a useful format because the alignments are (a) compressed,\n",
    "# which is convenient for long-term storage, and (b) sorted, which is convenient for variant discovery. \n",
    "# To generate variant calls in VCF format, run:\n",
    "!samtools mpileup -uf $HISAT2_HOME/example/reference/22_20-21M.fa eg2.sorted.bam | bcftools view -vcg - > eg2.raw.bcf"
   ]
  },
  {
   "cell_type": "code",
   "execution_count": null,
   "metadata": {
    "collapsed": true
   },
   "outputs": [],
   "source": []
  }
 ],
 "metadata": {
  "kernelspec": {
   "display_name": "Python 3",
   "language": "python",
   "name": "python3"
  },
  "language_info": {
   "codemirror_mode": {
    "name": "ipython",
    "version": 3
   },
   "file_extension": ".py",
   "mimetype": "text/x-python",
   "name": "python",
   "nbconvert_exporter": "python",
   "pygments_lexer": "ipython3",
   "version": "3.6.0"
  }
 },
 "nbformat": 4,
 "nbformat_minor": 2
}
