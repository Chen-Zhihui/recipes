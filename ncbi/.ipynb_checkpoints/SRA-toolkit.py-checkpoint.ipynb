{
 "cells": [
  {
   "cell_type": "markdown",
   "metadata": {},
   "source": [
    "portal https://www.ncbi.nlm.nih.gov/home/download/\n",
    "ftp  ftp://ftp.ncbi.nlm.nih.gov/\n",
    "search data with study https://trace.ncbi.nlm.nih.gov/Traces/study/?acc=SRP069806"
   ]
  },
  {
   "cell_type": "code",
   "execution_count": 1,
   "metadata": {
    "collapsed": false
   },
   "outputs": [
    {
     "name": "stdout",
     "output_type": "stream",
     "text": [
      "/home/tom/local/sratoolkit.2.8.2-1-ubuntu64/bin/fastq-dump\r\n"
     ]
    }
   ],
   "source": [
    "!which fastq-dump"
   ]
  },
  {
   "cell_type": "code",
   "execution_count": 4,
   "metadata": {
    "collapsed": false
   },
   "outputs": [
    {
     "name": "stdout",
     "output_type": "stream",
     "text": [
      "\n",
      "2017-05-24T12:29:12 prefetch.2.8.2: 1) Downloading 'SRR000001'...\n",
      "2017-05-24T12:29:12 prefetch.2.8.2:  Downloading via http...\n",
      "2017-05-24T12:31:24 prefetch.2.8.2 int: timeout exhausted while creating file within network system module - failed to open file for http://sra-download.ncbi.nlm.nih.gov/srapub/SRR000001\n",
      "^C\n",
      "2017-05-24T12:44:51 prefetch.2.8.2 sys: transfer interrupted while reading file within network system module - mbedtls_ssl_read returned -26880 ( SSL - Connection requires a read call )\n",
      "2017-05-24T12:44:51 prefetch.2.8.2 int: transfer interrupted while reading file within network system module - hav\u0002: Cannot KStreamRead\n",
      "2017-05-24T12:44:51 prefetch.2.8.2: 1) failed to download SRR000001\n"
     ]
    }
   ],
   "source": [
    "!prefetch SRR000001"
   ]
  },
  {
   "cell_type": "code",
   "execution_count": 2,
   "metadata": {
    "collapsed": false
   },
   "outputs": [
    {
     "name": "stdout",
     "output_type": "stream",
     "text": [
      "http://sra-download.ncbi.nlm.nih.gov/srapub/SRR000001\r\n"
     ]
    }
   ],
   "source": [
    "!srapath SRR000001"
   ]
  },
  {
   "cell_type": "code",
   "execution_count": 3,
   "metadata": {
    "collapsed": false
   },
   "outputs": [
    {
     "name": "stdout",
     "output_type": "stream",
     "text": [
      "NC_000010.9.cache\r\n"
     ]
    }
   ],
   "source": [
    "!ls /home/tom/ncbi/public/refseq/"
   ]
  },
  {
   "cell_type": "code",
   "execution_count": 5,
   "metadata": {
    "collapsed": false
   },
   "outputs": [
    {
     "name": "stdout",
     "output_type": "stream",
     "text": [
      "总用量 27G\r\n",
      "drwxrwxr-x 2 tom tom 4.0K 5月  25 08:03 .\r\n",
      "drwxrwxr-x 4 tom tom 4.0K 5月  11 07:40 ..\r\n",
      "-rw-r--r-- 1 tom tom 668M 9月  15  2016 SRR3503011.sra\r\n",
      "-rw-r--r-- 1 tom tom 1.6G 9月  15  2016 SRR3503012.sra\r\n",
      "-rw-r--r-- 1 tom tom 7.8G 9月  15  2016 SRR3503013.sra\r\n",
      "-rw-r--r-- 1 tom tom  16G 9月  15  2016 SRR3503014.sra\r\n",
      "-rw-r--r-- 1 tom tom 679M 9月  15  2016 SRR3503015.sra\r\n"
     ]
    }
   ],
   "source": [
    "!ls /home/tom/ncbi/public/sra/ -lah"
   ]
  },
  {
   "cell_type": "code",
   "execution_count": 6,
   "metadata": {
    "collapsed": false
   },
   "outputs": [
    {
     "name": "stdout",
     "output_type": "stream",
     "text": [
      "This run cannot be transformed into SFF format.\r\n",
      "Conversion cannot be completed because the source lacks\r\n",
      "one or more of the data series required by the SFF format.\r\n",
      "You should be able to dump it as FASTQ by running fastq-dump.\r\n",
      "\r\n"
     ]
    }
   ],
   "source": [
    "!sff-dump SRR3503015"
   ]
  },
  {
   "cell_type": "code",
   "execution_count": 7,
   "metadata": {
    "collapsed": false
   },
   "outputs": [
    {
     "name": "stdout",
     "output_type": "stream",
     "text": [
      "Read 5476618 spots for SRR3503015\r\n",
      "Written 5476618 spots for SRR3503015\r\n"
     ]
    }
   ],
   "source": [
    "!fastq-dump SRR3503015"
   ]
  },
  {
   "cell_type": "code",
   "execution_count": null,
   "metadata": {
    "collapsed": false
   },
   "outputs": [
    {
     "name": "stdout",
     "output_type": "stream",
     "text": [
      "总用量 2.4G\r\n",
      "drwxrwxr-x  3 tom tom 4.0K 5月  25 21:27 .\r\n",
      "drwxrwxr-x 10 tom tom 4.0K 5月  24 20:20 ..\r\n",
      "drwxr-xr-x  2 tom tom 4.0K 5月  13 10:12 .ipynb_checkpoints\r\n",
      "-rw-rw-r--  1 tom tom 7.9K 5月  25 21:27 SRA-toolkit.py.ipynb\r\n",
      "-rw-rw-r--  1 tom tom 2.4G 5月  25 21:25 SRR3503015.fastq\r\n"
     ]
    }
   ],
   "source": [
    "!ls -lah\n",
    "!wc -l SRR3503015.fastq"
   ]
  },
  {
   "cell_type": "code",
   "execution_count": 8,
   "metadata": {
    "collapsed": false
   },
   "outputs": [
    {
     "name": "stdout",
     "output_type": "stream",
     "text": [
      "\r\n",
      "Usage:\r\n",
      "  cache-mgr [path_to_cache] options\r\n",
      "\r\n",
      "Options:\r\n",
      "  -r|--report                      report objects in cache \r\n",
      "  -o|--rep-report                  report status of repositories \r\n",
      "  -t|--details                     show detailed report \r\n",
      "  -z|--test-zero                   test for zero blocks (for report function) \r\n",
      "  -u|--unlock                      remove lock-files \r\n",
      "  -c|--clear                       clear cache \r\n",
      "  -m|--max-remove                  remove until reached that many bytes \r\n",
      "  -i|--remove-dirs                 remove directories, not only files \r\n",
      "  -e|--enable                      enable repository [user/site/rem] \r\n",
      "  -d|--disable                     disable repository [user/site/rem] \r\n",
      "  -p|--user-repo-name              restrict to this user-repository \r\n",
      "\r\n",
      "  -h|--help                        Output brief explanation for the program. \r\n",
      "  -V|--version                     Display the version of the program then \r\n",
      "                                   quit. \r\n",
      "  -L|--log-level <level>           Logging level as number or enum string. One \r\n",
      "                                   of (fatal|sys|int|err|warn|info|debug) or \r\n",
      "                                   (0-6) Current/default is warn \r\n",
      "  -v|--verbose                     Increase the verbosity of the program \r\n",
      "                                   status messages. Use multiple times for more \r\n",
      "                                   verbosity. Negates quiet. \r\n",
      "  -q|--quiet                       Turn off all status messages for the \r\n",
      "                                   program. Negated by verbose. \r\n",
      "  --option-file <file>             Read more options and parameters from the \r\n",
      "                                   file. \r\n",
      "\r\n",
      "cache-mgr : 2.8.2\r\n",
      "\r\n"
     ]
    }
   ],
   "source": [
    "!cache-mgr"
   ]
  },
  {
   "cell_type": "code",
   "execution_count": 10,
   "metadata": {
    "collapsed": false
   },
   "outputs": [
    {
     "name": "stdout",
     "output_type": "stream",
     "text": [
      "-----------------------------------\r\n",
      "1 cached file(s)\r\n",
      "5 complete file(s)\r\n",
      "28,347,983,752 bytes in cached files\r\n",
      "28,315,164,531 bytes used in cached files\r\n",
      "0 lock files\r\n"
     ]
    }
   ],
   "source": [
    "!cache-mgr -r"
   ]
  },
  {
   "cell_type": "code",
   "execution_count": null,
   "metadata": {
    "collapsed": true
   },
   "outputs": [],
   "source": [
    "!wc -l "
   ]
  }
 ],
 "metadata": {
  "kernelspec": {
   "display_name": "Python 3",
   "language": "python",
   "name": "python3"
  },
  "language_info": {
   "codemirror_mode": {
    "name": "ipython",
    "version": 3
   },
   "file_extension": ".py",
   "mimetype": "text/x-python",
   "name": "python",
   "nbconvert_exporter": "python",
   "pygments_lexer": "ipython3",
   "version": "3.6.0"
  }
 },
 "nbformat": 4,
 "nbformat_minor": 2
}
