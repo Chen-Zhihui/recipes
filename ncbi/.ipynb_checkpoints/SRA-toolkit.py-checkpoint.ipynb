{
 "cells": [
  {
   "cell_type": "markdown",
   "metadata": {},
   "source": [
    "portal https://www.ncbi.nlm.nih.gov/home/download/\n",
    "ftp  ftp://ftp.ncbi.nlm.nih.gov/\n",
    "search data with study https://trace.ncbi.nlm.nih.gov/Traces/study/?acc=SRP069806"
   ]
  },
  {
   "cell_type": "code",
   "execution_count": 1,
   "metadata": {
    "collapsed": false
   },
   "outputs": [
    {
     "name": "stdout",
     "output_type": "stream",
     "text": [
      "/home/tom/local/sratoolkit.2.8.2-1-ubuntu64/bin/fastq-dump\r\n"
     ]
    }
   ],
   "source": [
    "!which fastq-dump"
   ]
  },
  {
   "cell_type": "code",
   "execution_count": 4,
   "metadata": {
    "collapsed": false
   },
   "outputs": [
    {
     "name": "stdout",
     "output_type": "stream",
     "text": [
      "\n",
      "2017-05-24T12:29:12 prefetch.2.8.2: 1) Downloading 'SRR000001'...\n",
      "2017-05-24T12:29:12 prefetch.2.8.2:  Downloading via http...\n",
      "2017-05-24T12:31:24 prefetch.2.8.2 int: timeout exhausted while creating file within network system module - failed to open file for http://sra-download.ncbi.nlm.nih.gov/srapub/SRR000001\n",
      "^C\n",
      "2017-05-24T12:44:51 prefetch.2.8.2 sys: transfer interrupted while reading file within network system module - mbedtls_ssl_read returned -26880 ( SSL - Connection requires a read call )\n",
      "2017-05-24T12:44:51 prefetch.2.8.2 int: transfer interrupted while reading file within network system module - hav\u0002: Cannot KStreamRead\n",
      "2017-05-24T12:44:51 prefetch.2.8.2: 1) failed to download SRR000001\n"
     ]
    }
   ],
   "source": [
    "!prefetch SRR000001"
   ]
  },
  {
   "cell_type": "code",
   "execution_count": 5,
   "metadata": {
    "collapsed": false
   },
   "outputs": [
    {
     "name": "stdout",
     "output_type": "stream",
     "text": [
      "http://sra-download.ncbi.nlm.nih.gov/srapub/SRR000001\r\n"
     ]
    }
   ],
   "source": [
    "!srapath SRR000001"
   ]
  },
  {
   "cell_type": "code",
   "execution_count": null,
   "metadata": {
    "collapsed": true
   },
   "outputs": [],
   "source": []
  }
 ],
 "metadata": {
  "kernelspec": {
   "display_name": "Python 3",
   "language": "python",
   "name": "python3"
  },
  "language_info": {
   "codemirror_mode": {
    "name": "ipython",
    "version": 3
   },
   "file_extension": ".py",
   "mimetype": "text/x-python",
   "name": "python",
   "nbconvert_exporter": "python",
   "pygments_lexer": "ipython3",
   "version": "3.6.0"
  }
 },
 "nbformat": 4,
 "nbformat_minor": 2
}
